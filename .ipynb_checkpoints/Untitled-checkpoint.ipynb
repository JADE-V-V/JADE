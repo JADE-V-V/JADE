{
 "cells": [
  {
   "cell_type": "code",
   "execution_count": 1,
   "metadata": {},
   "outputs": [],
   "source": [
    "import MCTAL_READER as mtal\n",
    "\n",
    "file = r'C:\\Users\\laghi\\Documents\\03_dottorato\\04_F4E\\01_JADE\\Tests\\01_MCNP_Run\\71c\\Sphere\\Sphere_1001_H-1\\Sphere_1001_H-1_m'\n",
    "mctal = mtal.MCTAL(file)"
   ]
  },
  {
   "cell_type": "code",
   "execution_count": 3,
   "metadata": {},
   "outputs": [
    {
     "data": {
      "text/plain": [
       "[<MCTAL_READER.Tally at 0x205027c6860>,\n",
       " <MCTAL_READER.Tally at 0x20511b46860>,\n",
       " <MCTAL_READER.Tally at 0x205027c6a58>,\n",
       " <MCTAL_READER.Tally at 0x20511b469e8>,\n",
       " <MCTAL_READER.Tally at 0x20511b46898>,\n",
       " <MCTAL_READER.Tally at 0x20511b468d0>,\n",
       " <MCTAL_READER.Tally at 0x20511b46908>,\n",
       " <MCTAL_READER.Tally at 0x20511b46978>,\n",
       " <MCTAL_READER.Tally at 0x20511b469b0>,\n",
       " <MCTAL_READER.Tally at 0x20511b46940>,\n",
       " <MCTAL_READER.Tally at 0x20511b46a20>,\n",
       " <MCTAL_READER.Tally at 0x20511b46a90>]"
      ]
     },
     "execution_count": 3,
     "metadata": {},
     "output_type": "execute_result"
    }
   ],
   "source": [
    "mctal.Read()"
   ]
  },
  {
   "cell_type": "code",
   "execution_count": 4,
   "metadata": {},
   "outputs": [
    {
     "data": {
      "text/plain": [
       "[<MCTAL_READER.Tally at 0x205027c6860>,\n",
       " <MCTAL_READER.Tally at 0x20511b46860>,\n",
       " <MCTAL_READER.Tally at 0x205027c6a58>,\n",
       " <MCTAL_READER.Tally at 0x20511b469e8>,\n",
       " <MCTAL_READER.Tally at 0x20511b46898>,\n",
       " <MCTAL_READER.Tally at 0x20511b468d0>,\n",
       " <MCTAL_READER.Tally at 0x20511b46908>,\n",
       " <MCTAL_READER.Tally at 0x20511b46978>,\n",
       " <MCTAL_READER.Tally at 0x20511b469b0>,\n",
       " <MCTAL_READER.Tally at 0x20511b46940>,\n",
       " <MCTAL_READER.Tally at 0x20511b46a20>,\n",
       " <MCTAL_READER.Tally at 0x20511b46a90>]"
      ]
     },
     "execution_count": 4,
     "metadata": {},
     "output_type": "execute_result"
    }
   ],
   "source": [
    "mctal.tallies"
   ]
  },
  {
   "cell_type": "code",
   "execution_count": 5,
   "metadata": {},
   "outputs": [
    {
     "data": {
      "text/plain": [
       "<MCTAL_READER.Header at 0x205027c68d0>"
      ]
     },
     "execution_count": 5,
     "metadata": {},
     "output_type": "execute_result"
    }
   ],
   "source": [
    "mctal.header"
   ]
  },
  {
   "cell_type": "code",
   "execution_count": null,
   "metadata": {},
   "outputs": [],
   "source": [
    "pieces[0][:-3]"
   ]
  },
  {
   "cell_type": "code",
   "execution_count": null,
   "metadata": {},
   "outputs": [],
   "source": [
    "import re\n",
    "patComment = re.compile('[cC][\\s\\t]+')\n",
    "patSpacing = re.compile('[\\s\\t]+')\n",
    "patName = re.compile('[mM]\\d+')\n",
    "\n",
    "stringa = '     pieces = patSpacing.split(string)'\n",
    "\n",
    "pieces = patSpacing.split(stringa)"
   ]
  },
  {
   "cell_type": "code",
   "execution_count": null,
   "metadata": {},
   "outputs": [],
   "source": [
    "pieces[0]==''"
   ]
  },
  {
   "cell_type": "code",
   "execution_count": null,
   "metadata": {},
   "outputs": [],
   "source": [
    "del pieces[0]"
   ]
  },
  {
   "cell_type": "code",
   "execution_count": null,
   "metadata": {},
   "outputs": [],
   "source": [
    "pieces"
   ]
  },
  {
   "cell_type": "code",
   "execution_count": null,
   "metadata": {},
   "outputs": [],
   "source": [
    "import MatReader as mr\n",
    "\n",
    "inputfile = 'mcardExample4Testing_extract.i'\n",
    "\n",
    "text = []\n",
    "with open(inputfile,'r') as infile:\n",
    "    for line in infile:\n",
    "        text.append(line)\n",
    "        \n",
    "print(text)"
   ]
  },
  {
   "cell_type": "code",
   "execution_count": null,
   "metadata": {},
   "outputs": [],
   "source": [
    "sub = mr.SubMaterial.from_text(text)"
   ]
  },
  {
   "cell_type": "code",
   "execution_count": null,
   "metadata": {},
   "outputs": [],
   "source": [
    "sub.to_text()"
   ]
  },
  {
   "cell_type": "code",
   "execution_count": null,
   "metadata": {},
   "outputs": [],
   "source": [
    "import Parser as p"
   ]
  },
  {
   "cell_type": "code",
   "execution_count": null,
   "metadata": {},
   "outputs": [],
   "source": [
    "file = 'Input_TEST_SPHERE.txt'\n",
    "cards = p.get_cards_from_input(file)"
   ]
  },
  {
   "cell_type": "code",
   "execution_count": null,
   "metadata": {},
   "outputs": [],
   "source": [
    "cards"
   ]
  },
  {
   "cell_type": "code",
   "execution_count": null,
   "metadata": {},
   "outputs": [],
   "source": [
    "cardDic = p.get_blocks(cards)"
   ]
  },
  {
   "cell_type": "code",
   "execution_count": null,
   "metadata": {},
   "outputs": [],
   "source": [
    "print(cardDic[2][0])"
   ]
  },
  {
   "cell_type": "code",
   "execution_count": null,
   "metadata": {},
   "outputs": [],
   "source": [
    "lines = []\n",
    "for card in cardDic[3]:\n",
    "    lines.extend(card.lines)\n",
    "\n",
    "toprint = ''\n",
    "for line in lines:\n",
    "    toprint = toprint+line\n",
    "    \n",
    "print(toprint)"
   ]
  },
  {
   "cell_type": "code",
   "execution_count": null,
   "metadata": {
    "scrolled": false
   },
   "outputs": [],
   "source": [
    "for card in datacards:\n",
    "    print(card.lines)"
   ]
  },
  {
   "cell_type": "code",
   "execution_count": null,
   "metadata": {},
   "outputs": [],
   "source": []
  },
  {
   "cell_type": "code",
   "execution_count": null,
   "metadata": {},
   "outputs": [],
   "source": [
    "cardDic.keys()"
   ]
  },
  {
   "cell_type": "code",
   "execution_count": null,
   "metadata": {},
   "outputs": [],
   "source": [
    "import pandas as pd"
   ]
  },
  {
   "cell_type": "code",
   "execution_count": null,
   "metadata": {
    "scrolled": true
   },
   "outputs": [],
   "source": [
    "isotopes = pd.read_csv('isotopes.txt',sep=';')\n",
    "isotopes.fillna(method='ffill',inplace=True)\n",
    "isotopes['Z'] = isotopes['Z'].astype('int')\n",
    "isotopes['A'] = isotopes['A'].astype('int')\n",
    "display(isotopes)"
   ]
  },
  {
   "cell_type": "code",
   "execution_count": null,
   "metadata": {},
   "outputs": [],
   "source": [
    "import re\n",
    "\n",
    "def extractNumber(s):\n",
    "    s.strip()\n",
    "    s = s.replace('\\s','')\n",
    "    s = s.replace('\\xa0','')\n",
    "    num = s.split('(')[0]\n",
    "    \n",
    "    return num\n",
    "\n",
    "patList = re.compile('\\[')\n",
    "def getMiddle(string):\n",
    "    if patList.search(string) is not None:\n",
    "        newstring = string.replace('[','')\n",
    "        newstring = newstring.replace(']','')\n",
    "        extremes = newstring.split(',')\n",
    "        minvalue = float(extractNumber(extremes[0]))\n",
    "        maxvalue = float(extractNumber(extremes[1]))\n",
    "        \n",
    "        return (maxvalue+minvalue)/2\n",
    "    else:\n",
    "        return(float(extractNumber(string)))\n",
    "\n",
    "newstuff = isotopes['Representative isotopic composition'].apply(getMiddle)\n",
    "display(isotopes)"
   ]
  },
  {
   "cell_type": "code",
   "execution_count": null,
   "metadata": {},
   "outputs": [],
   "source": [
    "isotopes['Mean value'] = newstuff\n",
    "display(isotopes)"
   ]
  },
  {
   "cell_type": "code",
   "execution_count": null,
   "metadata": {},
   "outputs": [],
   "source": [
    "isotopes.groupby('Z').sum().min()"
   ]
  },
  {
   "cell_type": "code",
   "execution_count": null,
   "metadata": {},
   "outputs": [],
   "source": [
    "isotopes.to_csv('Isotopes_managed.txt',index=False)"
   ]
  },
  {
   "cell_type": "code",
   "execution_count": null,
   "metadata": {},
   "outputs": [],
   "source": [
    "isotopes= pd.read_csv('Isotopes.txt',skiprows=2)\n",
    "display(isotopes)"
   ]
  },
  {
   "cell_type": "code",
   "execution_count": null,
   "metadata": {},
   "outputs": [],
   "source": [
    "def change(num):\n",
    "    if len(num) == 1:\n",
    "        num = '00'+ num\n",
    "    elif len(num) == 2:\n",
    "        num = '0'+num\n",
    "    \n",
    "    return num\n",
    "\n",
    "isotopes['idx'] = isotopes['Z'].astype('str')+isotopes['A'].astype('str').apply(change)"
   ]
  },
  {
   "cell_type": "code",
   "execution_count": null,
   "metadata": {},
   "outputs": [],
   "source": [
    "\n",
    "isotopes.to_csv('Isotopes_managed.txt',index=False)"
   ]
  },
  {
   "cell_type": "code",
   "execution_count": null,
   "metadata": {
    "scrolled": true
   },
   "outputs": [],
   "source": [
    "isotopes.set_index('idx',inplace=True)\n",
    "display(isotopes)"
   ]
  },
  {
   "cell_type": "code",
   "execution_count": null,
   "metadata": {},
   "outputs": [],
   "source": [
    "isotopes[isotopes['Z']==1]\n",
    "for idx,row in isotopes[isotopes['Z']==1].iterrows():\n",
    "    print((idx,row['Mean value']))"
   ]
  },
  {
   "cell_type": "code",
   "execution_count": 1,
   "metadata": {},
   "outputs": [],
   "source": [
    "import inputfile as ipt"
   ]
  },
  {
   "cell_type": "code",
   "execution_count": 3,
   "metadata": {},
   "outputs": [
    {
     "name": "stdout",
     "output_type": "stream",
     "text": [
      "c Line 56: tab replaced with 4 spaces\n",
      "c Line 57: tab replaced with 4 spaces\n"
     ]
    }
   ],
   "source": [
    "inp = ipt.InputFile.from_text('mcardExample4Testing.i')\n",
    "\n",
    "inp.write('test.i')"
   ]
  },
  {
   "cell_type": "code",
   "execution_count": null,
   "metadata": {},
   "outputs": [],
   "source": []
  }
 ],
 "metadata": {
  "kernelspec": {
   "display_name": "Python 3",
   "language": "python",
   "name": "python3"
  },
  "language_info": {
   "codemirror_mode": {
    "name": "ipython",
    "version": 3
   },
   "file_extension": ".py",
   "mimetype": "text/x-python",
   "name": "python",
   "nbconvert_exporter": "python",
   "pygments_lexer": "ipython3",
   "version": "3.6.7"
  }
 },
 "nbformat": 4,
 "nbformat_minor": 2
}
