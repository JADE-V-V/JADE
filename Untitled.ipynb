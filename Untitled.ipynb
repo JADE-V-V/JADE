{
 "cells": [
  {
   "cell_type": "code",
   "execution_count": null,
   "metadata": {},
   "outputs": [],
   "source": [
    "import output as o\n",
    "import matplotlib.pyplot as plt\n",
    "import numpy as np\n",
    "from matplotlib.ticker import LogLocator, AutoMinorLocator, MultipleLocator, FixedLocator\n",
    "from matplotlib.markers import CARETUPBASE\n",
    "from matplotlib.markers import CARETDOWNBASE\n",
    "from matplotlib.lines import Line2D"
   ]
  },
  {
   "cell_type": "code",
   "execution_count": null,
   "metadata": {},
   "outputs": [],
   "source": [
    "file = r'C:\\Users\\laghi\\Documents\\03_dottorato\\TEST\\Sphere_1001_H-1_m'\n",
    "out = o.MCNPoutput(file)"
   ]
  },
  {
   "cell_type": "code",
   "execution_count": null,
   "metadata": {},
   "outputs": [],
   "source": [
    "tally_data = out.mdata.set_index('Tally N.').loc[2]"
   ]
  },
  {
   "cell_type": "code",
   "execution_count": null,
   "metadata": {},
   "outputs": [],
   "source": [
    "energy = tally_data['Energy'].values\n",
    "values = tally_data['Value'].values\n",
    "error = tally_data['Error'].values\n",
    "#error[100] = 1e-9"
   ]
  },
  {
   "cell_type": "code",
   "execution_count": null,
   "metadata": {},
   "outputs": [],
   "source": [
    "values2 = np.array(values)*0.1+np.array(values)\n",
    "error2 = np.array(error)*1.5\n",
    "values3 = np.array(values)-np.array(values)*0.4\n",
    "values3[100] = values3[100]*0.5\n",
    "error3 = np.array(error)*1.7\n",
    "lib1 = {'x':energy, 'y':values, 'err': error,'ylabel':'Fine Neutron Flux lib1'}\n",
    "lib2 = {'x':energy, 'y':values2, 'err': error2,'ylabel':'Fine Neutron Flux lib1'}\n",
    "lib3 = {'x':energy, 'y':values3, 'err': error3,'ylabel':'Fine Neutron Flux lib1'}\n",
    "data = [lib1,lib2,lib3]"
   ]
  },
  {
   "cell_type": "code",
   "execution_count": null,
   "metadata": {
    "scrolled": true
   },
   "outputs": [],
   "source": [
    "import warnings"
   ]
  },
  {
   "cell_type": "code",
   "execution_count": null,
   "metadata": {},
   "outputs": [],
   "source": [
    "def plot_sphereTest(data, title, mainYlabel, xlabel='Energy [MeV]'):\n",
    "    warnings.simplefilter('ignore')\n",
    "    colors = ['blue', 'orange', 'green', 'olive', 'purple', 'cyan']\n",
    "    # General parameters\n",
    "    fontsize = 30  # fontsize for text in plot\n",
    "    if len(data)>1:\n",
    "        nrows = 3\n",
    "    else:\n",
    "        nrows = 2\n",
    "\n",
    "    # Set properties for the plot spacing\n",
    "    if len(data) > 1:\n",
    "        gridspec_kw = {'height_ratios': [4, 1, 1], 'hspace': 0.10}\n",
    "    else:\n",
    "        gridspec_kw = {'height_ratios': [4, 1], 'hspace': 0.10}\n",
    "    # Initiate plot\n",
    "    fig, axes = plt.subplots(nrows=nrows, ncols=1, sharex=True,\n",
    "                             figsize=(18, 13.5),\n",
    "                             gridspec_kw=gridspec_kw)\n",
    "\n",
    "    # --- Main plot ---\n",
    "    ax1 = axes[0]\n",
    "    ax1.set_title(title, fontsize=fontsize+4)\n",
    "    # Labels\n",
    "    ax1.set_ylabel(mainYlabel).set_fontsize(fontsize)  # Y axis label\n",
    "\n",
    "    # Ticks\n",
    "    subs = (0.2, 0.4, 0.6, 0.8)\n",
    "    ax1.set_xscale('log')\n",
    "    ax1.set_yscale('log')\n",
    "    ax1.xaxis.set_major_locator(LogLocator(base=10, numticks=15))\n",
    "    ax1.yaxis.set_major_locator(LogLocator(base=10, numticks=15))\n",
    "    ax1.xaxis.set_minor_locator(LogLocator(base=10.0, subs=subs, numticks=12))\n",
    "    ax1.yaxis.set_minor_locator(LogLocator(base=10.0, subs=subs, numticks=12))\n",
    "\n",
    "\n",
    "    # --- Error Plot ---\n",
    "    ax2 = axes[1]\n",
    "    ax2.axhline(y=10, linestyle='--', color='black')\n",
    "    ax2.set_ylabel('1σ [%]', labelpad=35).set_fontsize(fontsize)\n",
    "    ax2.set_yscale('log')\n",
    "    ax2.set_ylim(bottom=0, top=100)\n",
    "    ax2.yaxis.set_major_locator(LogLocator(base=10, numticks=15))\n",
    "    ax2.yaxis.set_minor_locator(LogLocator(base=10.0, subs=subs, numticks=12))  \n",
    "\n",
    "    # --- Comparison Plot ---\n",
    "    if len(data) > 1:\n",
    "        ax3 = axes[2]\n",
    "        ax3.axhline(y=1, linestyle='--', color='black')\n",
    "        ax3.set_ylabel('$T_i/R$', labelpad=30).set_fontsize(fontsize)\n",
    "        ax3.yaxis.set_major_locator(MultipleLocator(0.5))\n",
    "        ax3.yaxis.set_minor_locator(AutoMinorLocator(5))\n",
    "        ax3.axhline(y=2, linestyle='--', color='red', linewidth = 0.5)\n",
    "        ax3.axhline(y=0.5, linestyle='--', color='red', linewidth = 0.5)\n",
    "        ax3.set_ylim(bottom=0.3, top=2.2)\n",
    "\n",
    "    # Generate X axis for bin properties\n",
    "    oldX = np.array([0]+list(data[0]['x']))\n",
    "    base = np.log(oldX[:-1])\n",
    "    shifted = np.log(oldX[1:])\n",
    "    newX = np.exp((base+shifted)/2)\n",
    "    newX[0] = (oldX[1]+oldX[0])/2\n",
    "\n",
    "    # --- Plot Data ---\n",
    "    for idx, dic_data in enumerate(data):\n",
    "\n",
    "        x = [0]+list(dic_data['x'])\n",
    "        y = [0]+list(dic_data['y'])\n",
    "        err = np.array(dic_data['err'])\n",
    "        err_multi = np.array(dic_data['y'])*np.abs(err)\n",
    "\n",
    "        # Main plot\n",
    "        if idx > 0:\n",
    "            tag = 'T'+str(idx)+' :'\n",
    "        else:\n",
    "            tag = 'R: '\n",
    "        ax1.step(x, y, label=tag+dic_data['ylabel'], color=colors[idx])\n",
    "        ax1.errorbar(newX, dic_data['y'], linewidth=0, yerr=err_multi,\n",
    "                     elinewidth=0.5, color=colors[idx])\n",
    "\n",
    "        # Error Plot\n",
    "        ax2.plot(newX, np.array(dic_data['err'])*100,'o', markersize=2,\n",
    "                color=colors[idx])\n",
    "\n",
    "    # Comparison\n",
    "    if len(data) > 1:\n",
    "        for idx, dic_data in enumerate(data[1:]):\n",
    "            ratio = np.array(dic_data['y'])/np.array(data[0]['y'])\n",
    "            # Uniform plots actions\n",
    "            starmap1 = ratio > 2\n",
    "            starmap2 = ratio < 0.5\n",
    "            normalmap = np.logical_and(np.logical_not(starmap1),\n",
    "                                      np.logical_not(starmap2))\n",
    "            normalY = ratio[normalmap]\n",
    "            normalX = newX[normalmap]\n",
    "            starX1 = newX[starmap1]\n",
    "            starY1 = np.full(len(starX1), 2)\n",
    "            starX2 = newX[starmap2]\n",
    "            starY2 = np.full(len(starX2), 0.5)\n",
    "\n",
    "            ax3.plot(normalX, normalY,'o', markersize=2, color=colors[idx+1])\n",
    "            ax3.scatter(starX1, starY1,marker=CARETUPBASE, s=50, c=colors[idx+1])\n",
    "            ax3.scatter(starX2, starY2,marker=CARETDOWNBASE, s=50, c=colors[idx+1])\n",
    "\n",
    "        #Build ax3 legend\n",
    "        l = [Line2D([0], [0], marker=CARETUPBASE, color='black', label='> 2',\n",
    "                          markerfacecolor='black', markersize=8, lw=0),\n",
    "             Line2D([0], [0], marker=CARETDOWNBASE, color='black', label='< 0.5',\n",
    "                          markerfacecolor='black', markersize=8, lw=0)]\n",
    "        ax3.legend(handles=l, loc='best', prop={'size': fontsize-15})\n",
    "\n",
    "\n",
    "    # Final operations\n",
    "    ax1.legend(loc='best', prop={'size': fontsize-5})\n",
    "    axes[-1].set_xlabel(xlabel).set_fontsize(fontsize)\n",
    "\n",
    "    # --- Common Features ---\n",
    "    for ax in axes:\n",
    "        # Grid control\n",
    "        ax.grid()\n",
    "        ax.grid('True', which='minor', linewidth=0.25)\n",
    "        # Ticks\n",
    "        ax.tick_params(which='major', width=1.00, length=5, labelsize=fontsize-2)\n",
    "        ax.tick_params(which='minor', width=0.75, length=2.50)\n",
    "    #x.xaxis.set_minor_locator(LogLocator(base=10,numtick=15))\n",
    "\n",
    "    #ax.tick_params(which='major', width=1.00)\n",
    "    #ax.tick_params(which='major', length=5)\n",
    "    #ax.tick_params(which='minor', width=0.75)\n",
    "    #ax.tick_params(which='minor', length=2.5)\n",
    "\n",
    "\n",
    "    plt.tight_layout() #This cuts the white space surrounding the image\n",
    "    #plt.show()\n",
    "    plt.savefig(r'C:\\Users\\laghi\\Documents\\06_generico\\Bando BCC\\img.png')"
   ]
  },
  {
   "cell_type": "code",
   "execution_count": null,
   "metadata": {},
   "outputs": [],
   "source": [
    "warnings.filterwarnings('ignore', module='ticker.py')\n",
    "warnings.filterwarnings('ignore', module='plotter.py')\n",
    "\n",
    "title = \"Fine Neutron Flux\"\n",
    "plot_sphereTest(data, title, 'Neutron Flux $[\\#/cm^2]$')"
   ]
  },
  {
   "cell_type": "code",
   "execution_count": null,
   "metadata": {},
   "outputs": [],
   "source": [
    "import output as outp\n",
    "import os"
   ]
  },
  {
   "cell_type": "code",
   "execution_count": null,
   "metadata": {},
   "outputs": [],
   "source": [
    "def get_data(out):\n",
    "    \n",
    "    template = os.path.join(os.getcwd(), 'Templates',\n",
    "                                    'Sphere_comparison.xlsx')\n",
    "\n",
    "    outputs = {}\n",
    "    iteration = 0\n",
    "    for reflib, tarlib, name in out.couples:\n",
    "        outpath = os.path.join(out.excel_path, 'Sphere_comparison_' +\n",
    "                               name+'.xlsx')\n",
    "        # Get results\n",
    "        dfs = []\n",
    "\n",
    "        for test_path in [out.test_path[reflib], out.test_path[tarlib]]:\n",
    "            results = []\n",
    "            iteration = iteration+1\n",
    "            outputs_lib = {}\n",
    "            for folder in os.listdir(test_path):\n",
    "                results_path = os.path.join(test_path, folder)\n",
    "                pieces = folder.split('_')\n",
    "                # Get zaid\n",
    "                zaidnum = pieces[-2]\n",
    "                zaidname = pieces[-1]\n",
    "                # Get mfile\n",
    "                for file in os.listdir(results_path):\n",
    "                    if file[-1] == 'm':\n",
    "                        mfile = file\n",
    "\n",
    "                # Parse output\n",
    "                output = MCNPoutput(os.path.join(results_path, mfile))\n",
    "                outputs_lib[zaidnum] = output\n",
    "\n",
    "                res, columns = output.get_comparison_data()\n",
    "                res.append(int(zaidnum))\n",
    "                res.append(zaidname)\n",
    "\n",
    "                results.append(res)\n",
    "\n",
    "            # Add reference library outputs\n",
    "            if iteration == 1:\n",
    "                outputs[reflib] = outputs_lib\n",
    "\n",
    "            if test_path == out.test_path[tarlib]:\n",
    "                outputs[tarlib] = outputs_lib\n",
    "\n",
    "            # Generate DataFrames\n",
    "            columns.extend(['Zaid', 'Zaid Name'])\n",
    "            df = pd.DataFrame(results, columns=columns)\n",
    "            df.set_index(['Zaid', 'Zaid Name'], inplace=True)\n",
    "            dfs.append(df)\n",
    "\n",
    "            # outputs_couple = outputs\n",
    "            # self.results = results\n",
    "\n",
    "        out.outputs = outputs\n",
    "        # Consider only common zaids\n",
    "        idx1 = dfs[0].index\n",
    "        idx2 = dfs[1].index\n",
    "        newidx = idx1.intersection(idx2)\n",
    "\n",
    "        # Build the final excel data\n",
    "        final = (dfs[0].loc[newidx]-dfs[1].loc[newidx])/dfs[0].loc[newidx]\n",
    "\n",
    "        return final"
   ]
  },
  {
   "cell_type": "code",
   "execution_count": null,
   "metadata": {},
   "outputs": [],
   "source": [
    "out = outp.SphereOutput(['71c','81c'], 'Sphere') \n",
    "data = get_data(out)\n",
    "out2 = outp.SphereOutput(['71c','31c'], 'Sphere') \n",
    "data2 = get_data(out2)"
   ]
  },
  {
   "cell_type": "code",
   "execution_count": null,
   "metadata": {},
   "outputs": [],
   "source": [
    "newdata = data.reset_index().set_index('Zaid').sort_index()\n",
    "newdata2 = data2.reset_index().set_index('Zaid').sort_index()\n",
    "display(newdata2)"
   ]
  },
  {
   "cell_type": "code",
   "execution_count": null,
   "metadata": {},
   "outputs": [],
   "source": [
    "def zaid_plot(tally, datalist, labels):\n",
    "    ylabel = 'test'\n",
    "    colors = ['blue', 'orange', 'green', 'olive', 'purple', 'cyan']\n",
    "    # General parameters\n",
    "    fontsize = 20  # fontsize for text in plot\n",
    "\n",
    "    # Initiate plot\n",
    "    fig, ax = plt.subplots(figsize=(16, 9))\n",
    "\n",
    "    # --- Main plot ---\n",
    "    ax.set_title(tally, fontsize=fontsize+4)\n",
    "    # Labels\n",
    "    ax.set_ylabel(ylabel).set_fontsize(fontsize)  # Y axis label\n",
    "\n",
    "    # Ticks\n",
    "    #subs = (0.2, 0.4, 0.6, 0.8)\n",
    "    \n",
    "    #ax1.yaxis.set_major_locator(LogLocator(base=10, numticks=15))\n",
    "    #ax1.xaxis.set_minor_locator(LogLocator(base=10.0, subs=subs, numticks=12))\n",
    "    #ax1.yaxis.set_minor_locator(LogLocator(base=10.0, subs=subs, numticks=12))\n",
    "\n",
    "\n",
    "    # --- Error Plot ---\n",
    "    ax.axhline(y=10, linestyle='--', color='red')\n",
    "    ax.axhline(y=0, linestyle='--', color='black')\n",
    "    ax.axhline(y=-10, linestyle='--', color='red')\n",
    "    #ax2.yaxis.set_major_locator(LogLocator(base=10, numticks=15))\n",
    "    #ax2.yaxis.set_minor_locator(LogLocator(base=10.0, subs=subs, numticks=12))  \n",
    "\n",
    "    # --- Plot Data ---\n",
    "    # Get x data\n",
    "    to_concat = []\n",
    "    for data in datalist:\n",
    "        to_concat.append(data['Zaid Name'])\n",
    "\n",
    "    zaid_df = pd.concat(to_concat, axis=0)\n",
    "    zaid_df.drop_duplicates(inplace=True)\n",
    "    zaid_df.sort_index(inplace=True)\n",
    "\n",
    "    names = list(zaid_df.values)\n",
    "    print(names)\n",
    "    X = range(len(names))\n",
    "    X_dic = {}\n",
    "    for i in X:\n",
    "        X_dic[names[i]] = i\n",
    "    \n",
    "    # Plot\n",
    "    for idx, data in enumerate(datalist):\n",
    "        x_names = data['Zaid Name'].values\n",
    "        x = []\n",
    "        for zaidname in x_names:\n",
    "            x.append(X_dic[zaidname])\n",
    "            #print(x,data[tally].values)\n",
    "        \n",
    "        y = data[tally]*100\n",
    "        ax.plot(x, y,'o', markersize=5, label=labels[idx],color=colors[idx])\n",
    "    \n",
    "    # Final operations\n",
    "    ax.legend(loc='best', prop={'size': fontsize-2})\n",
    "    #axes[-1].set_xlabel(xlabel).set_fontsize(fontsize)\n",
    "    # Grid control\n",
    "    ax.grid()\n",
    "    ax.grid('True', which='minor', linewidth=0.25)\n",
    "    # Ticks\n",
    "    ax.tick_params(which='major', width=1.00, length=5, labelsize=fontsize-2)\n",
    "    ax.tick_params(which='minor', width=0.75, length=2.50)\n",
    "    \n",
    "    ax.xaxis.set_major_locator(FixedLocator(list(X)))\n",
    "    ax.set_xticklabels(names)\n",
    "    #ax.set_xlim(-1, len(names)+2)\n",
    "        \n",
    "    plt.tight_layout() #This cuts the white space surrounding the image\n",
    "    plt.show()"
   ]
  },
  {
   "cell_type": "code",
   "execution_count": null,
   "metadata": {
    "scrolled": false
   },
   "outputs": [],
   "source": [
    "data_plot = [newdata, newdata2]\n",
    "#tally = 'Neutron heating F6'\n",
    "tally = 'DPA production'\n",
    "labels = ['81c','31c']\n",
    "zaid_plot(tally, data_plot, labels)"
   ]
  },
  {
   "cell_type": "code",
   "execution_count": null,
   "metadata": {},
   "outputs": [],
   "source": [
    "import pandas as pd\n"
   ]
  },
  {
   "cell_type": "code",
   "execution_count": null,
   "metadata": {},
   "outputs": [],
   "source": [
    "lista = [['a',1,'man','bum'], ['b',2,'dnki','bam'],['a',2,'man','bum']]\n",
    "df = pd.DataFrame(lista, columns=['idx','A','B','C'])\n",
    "df.set_index('idx',inplace=True)\n",
    "mask = df.loc['a']\n",
    "mask.set_index('B')"
   ]
  },
  {
   "cell_type": "code",
   "execution_count": null,
   "metadata": {},
   "outputs": [],
   "source": [
    "class MCNPoutput:\n",
    "    def __init__(self, mctal_file):\n",
    "        \"\"\"\n",
    "        Class handling an MCNP run Output\n",
    "\n",
    "        mctal_file: (str/path) path to the mctal file\n",
    "        \"\"\"\n",
    "        self.mctal_file = mctal_file  # path to mctal file\n",
    "\n",
    "        # Read and parse the mctal file\n",
    "        mctal = mtal.MCTAL(mctal_file)\n",
    "        mctal.Read()\n",
    "        self.mctal = mctal\n",
    "        self.mdata = self.organize_mctal()\n",
    "\n",
    "    def organize_mctal(self):\n",
    "        \"\"\"\n",
    "        Retrieve and organize mctal data. Simplified for sphere leakage case\n",
    "\n",
    "        Returns: DataFrame containing the organized data\n",
    "        \"\"\"\n",
    "        # Extract data\n",
    "        rows = []\n",
    "        for t in self.mctal.tallies:\n",
    "            num = t.tallyNumber\n",
    "            des = t.tallyComment[0]\n",
    "            nCells = t.getNbins(\"f\", False)\n",
    "            nCora = t.getNbins(\"i\", False)\n",
    "            nCorb = t.getNbins(\"j\", False)\n",
    "            nCorc = t.getNbins(\"k\", False)\n",
    "            nDir = t.getNbins(\"d\", False)\n",
    "            # usrAxis = t.getAxis(\"u\")\n",
    "            nUsr = t.getNbins(\"u\", False)\n",
    "            # segAxis = t.getAxis(\"s\")\n",
    "            nSeg = t.getNbins(\"s\", False)\n",
    "            nMul = t.getNbins(\"m\", False)\n",
    "            # cosAxis = t.getAxis(\"c\")\n",
    "            nCos = t.getNbins(\"c\", False)\n",
    "            # ergAxis = t.getAxis(\"e\")\n",
    "            nErg = t.getNbins(\"e\", False)\n",
    "            # timAxis = t.getAxis(\"t\")\n",
    "            nTim = t.getNbins(\"t\", False)\n",
    "\n",
    "            for f in range(nCells):\n",
    "                for d in range(nDir):\n",
    "                    for u in range(nUsr):\n",
    "                        for s in range(nSeg):\n",
    "                            for m in range(nMul):\n",
    "                                for c in range(nCos):\n",
    "                                    for e in range(nErg):\n",
    "                                        try:\n",
    "                                            erg = t.erg[e]\n",
    "                                        except IndexError:\n",
    "                                            erg = None\n",
    "\n",
    "                                        for nt in range(nTim):\n",
    "                                            for k in range(nCorc):\n",
    "                                                for j in range(nCorb):\n",
    "                                                    for i in range(nCora):\n",
    "                                                        val = t.getValue(f, d,\n",
    "                                                                         u, s,\n",
    "                                                                         m, c,\n",
    "                                                                         e, nt,\n",
    "                                                                         i, j,\n",
    "                                                                         k, 0)\n",
    "                                                        err = t.getValue(f, d,\n",
    "                                                                         u, s,\n",
    "                                                                         m, c,\n",
    "                                                                         e, nt,\n",
    "                                                                         i, j,\n",
    "                                                                         k, 1)\n",
    "\n",
    "                                                        row = [num, des,\n",
    "                                                               erg,\n",
    "                                                               val, err]\n",
    "                                                        rows.append(row)\n",
    "\n",
    "        df = pd.DataFrame(rows, columns=['Tally N.', 'Tally Description',\n",
    "                                         'Energy', 'Value', 'Error'])\n",
    "        return df\n",
    "    \n",
    "    def get_comparison_data(self):\n",
    "        \"\"\"\n",
    "        Get Data for single zaid to be used in comparison.\n",
    "\n",
    "        Returns\n",
    "        -------\n",
    "        results : list\n",
    "            All results per tally to compare\n",
    "        columns : list\n",
    "            Tally names\n",
    "\n",
    "        \"\"\"\n",
    "        # Tallies to post process\n",
    "        tallies2pp = ['12', '22', '24', '14', '34', '6', '46']\n",
    "        data = self.mdata.set_index(['Tally Description', 'Energy'])\n",
    "        results = []  # Store data to compare for different tallies\n",
    "        columns = []  # Tally names and numbers\n",
    "        # Reorder tallies\n",
    "        tallies = []\n",
    "        for tallynum in tallies2pp:\n",
    "            for tally in self.mctal.tallies:\n",
    "                num = str(tally.tallyNumber)\n",
    "                if num == tallynum:\n",
    "                    tallies.append(tally)\n",
    "\n",
    "        for tally in tallies:\n",
    "            num = str(tally.tallyNumber)\n",
    "            # Isolate tally\n",
    "\n",
    "            masked = data.loc[tally.tallyComment[0]]\n",
    "            if num in tallies2pp:\n",
    "                if num in ['12', '22']:  # Coarse Flux bins\n",
    "                    # Get energy bins\n",
    "                    bins = list(masked.reset_index()['Energy'].values)\n",
    "                    for ebin in bins:\n",
    "                        colname = '(T.ly '+str(num)+') '+str(ebin)\n",
    "                        columns.append(colname)\n",
    "                        results.append(masked['Value'].loc[ebin])\n",
    "                else:\n",
    "                    columns.append(tally.tallyComment[0])\n",
    "                    results.append(masked['Value'].values[0])\n",
    "\n",
    "        return results, columns"
   ]
  },
  {
   "cell_type": "code",
   "execution_count": null,
   "metadata": {},
   "outputs": [],
   "source": [
    "out = MCNPoutput(mctal_file)"
   ]
  },
  {
   "cell_type": "code",
   "execution_count": null,
   "metadata": {},
   "outputs": [],
   "source": [
    "out.get_comparison_data()"
   ]
  },
  {
   "cell_type": "code",
   "execution_count": null,
   "metadata": {},
   "outputs": [],
   "source": [
    "x = np.array([1,2,3,4])\n",
    "x[mappa]"
   ]
  },
  {
   "cell_type": "code",
   "execution_count": null,
   "metadata": {},
   "outputs": [],
   "source": []
  },
  {
   "cell_type": "code",
   "execution_count": null,
   "metadata": {},
   "outputs": [],
   "source": [
    "cardDic = p.get_blocks(cards)"
   ]
  },
  {
   "cell_type": "code",
   "execution_count": null,
   "metadata": {},
   "outputs": [],
   "source": [
    "print(cardDic[2][0])"
   ]
  },
  {
   "cell_type": "code",
   "execution_count": null,
   "metadata": {},
   "outputs": [],
   "source": [
    "lines = []\n",
    "for card in cardDic[3]:\n",
    "    lines.extend(card.lines)\n",
    "\n",
    "toprint = ''\n",
    "for line in lines:\n",
    "    toprint = toprint+line\n",
    "    \n",
    "print(toprint)"
   ]
  },
  {
   "cell_type": "code",
   "execution_count": null,
   "metadata": {
    "scrolled": false
   },
   "outputs": [],
   "source": [
    "for card in datacards:\n",
    "    print(card.lines)"
   ]
  },
  {
   "cell_type": "code",
   "execution_count": null,
   "metadata": {},
   "outputs": [],
   "source": []
  },
  {
   "cell_type": "code",
   "execution_count": null,
   "metadata": {},
   "outputs": [],
   "source": [
    "list('sd')"
   ]
  },
  {
   "cell_type": "code",
   "execution_count": null,
   "metadata": {},
   "outputs": [],
   "source": [
    "import pandas as pd\n",
    "import numpy as np"
   ]
  },
  {
   "cell_type": "code",
   "execution_count": null,
   "metadata": {
    "scrolled": true
   },
   "outputs": [],
   "source": [
    "import warnings\n",
    "\n",
    "def fxn():\n",
    "    warnings.warn(\"deprecated\", RuntimeWarning)\n",
    "\n",
    "with warnings.catch_warnings():\n",
    "    warnings.simplefilter(\"ignore\")\n",
    "    fxn()"
   ]
  },
  {
   "cell_type": "code",
   "execution_count": null,
   "metadata": {},
   "outputs": [],
   "source": [
    "fxn()"
   ]
  },
  {
   "cell_type": "code",
   "execution_count": null,
   "metadata": {},
   "outputs": [],
   "source": [
    "isotopes['Mean value'] = newstuff\n",
    "display(isotopes)"
   ]
  },
  {
   "cell_type": "code",
   "execution_count": null,
   "metadata": {},
   "outputs": [],
   "source": [
    "isotopes.groupby('Z').sum().min()"
   ]
  },
  {
   "cell_type": "code",
   "execution_count": null,
   "metadata": {},
   "outputs": [],
   "source": [
    "isotopes.to_csv('Isotopes_managed.txt',index=False)"
   ]
  },
  {
   "cell_type": "code",
   "execution_count": null,
   "metadata": {},
   "outputs": [],
   "source": [
    "isotopes= pd.read_csv('Isotopes.txt',skiprows=2)\n",
    "display(isotopes)"
   ]
  },
  {
   "cell_type": "code",
   "execution_count": null,
   "metadata": {},
   "outputs": [],
   "source": [
    "def change(num):\n",
    "    if len(num) == 1:\n",
    "        num = '00'+ num\n",
    "    elif len(num) == 2:\n",
    "        num = '0'+num\n",
    "    \n",
    "    return num\n",
    "\n",
    "isotopes['idx'] = isotopes['Z'].astype('str')+isotopes['A'].astype('str').apply(change)"
   ]
  },
  {
   "cell_type": "code",
   "execution_count": null,
   "metadata": {},
   "outputs": [],
   "source": [
    "\n",
    "isotopes.to_csv('Isotopes_managed.txt',index=False)"
   ]
  },
  {
   "cell_type": "code",
   "execution_count": null,
   "metadata": {
    "scrolled": true
   },
   "outputs": [],
   "source": [
    "isotopes.set_index('idx',inplace=True)\n",
    "display(isotopes)"
   ]
  },
  {
   "cell_type": "code",
   "execution_count": null,
   "metadata": {},
   "outputs": [],
   "source": [
    "isotopes[isotopes['Z']==1]\n",
    "for idx,row in isotopes[isotopes['Z']==1].iterrows():\n",
    "    print((idx,row['Mean value']))"
   ]
  },
  {
   "cell_type": "code",
   "execution_count": null,
   "metadata": {},
   "outputs": [],
   "source": [
    "import inputfile as ipt"
   ]
  },
  {
   "cell_type": "code",
   "execution_count": null,
   "metadata": {},
   "outputs": [],
   "source": [
    "inp = ipt.InputFile.from_text('mcardExample4Testing.i')\n",
    "\n",
    "inp.write('test.i')"
   ]
  },
  {
   "cell_type": "code",
   "execution_count": null,
   "metadata": {},
   "outputs": [],
   "source": [
    "args = [('1002.31c', '7.2908e-06','    $ H-2','AB(%)','0.011'), ('16034.31c', '0.35793', '    $ S-345', 'AB(%)','4.3653')]\n",
    "print('M1')\n",
    "lines = []\n",
    "for arg in args:\n",
    "    lines.append('{0:>15} {1:>12} {2:<11} {3:<5} {4:>8}'.format(*arg))\n",
    "\n",
    "for line in lines:\n",
    "    print(line)"
   ]
  },
  {
   "cell_type": "code",
   "execution_count": null,
   "metadata": {},
   "outputs": [],
   "source": [
    "'1002.31c'.upper()"
   ]
  },
  {
   "cell_type": "code",
   "execution_count": null,
   "metadata": {},
   "outputs": [],
   "source": [
    "file = r'C:\\Users\\laghi\\Documents\\03_dottorato\\04_F4E\\01_JADE\\Utilities\\Materials Infos\\mcardExample4Testing.i_materialinfo.xlsx'\n",
    "import pandas as pd"
   ]
  },
  {
   "cell_type": "code",
   "execution_count": null,
   "metadata": {},
   "outputs": [],
   "source": [
    "df = pd.read_excel(file)"
   ]
  },
  {
   "cell_type": "code",
   "execution_count": null,
   "metadata": {},
   "outputs": [],
   "source": [
    "df = df.fillna(method='ffill').set_index(['Material', 'Submaterial', 'Element', 'Isotope'])"
   ]
  },
  {
   "cell_type": "code",
   "execution_count": null,
   "metadata": {
    "scrolled": true
   },
   "outputs": [],
   "source": [
    "df_elem = df.groupby(['Material','Submaterial','Element']).sum()"
   ]
  },
  {
   "cell_type": "code",
   "execution_count": null,
   "metadata": {
    "scrolled": true
   },
   "outputs": [],
   "source": [
    "df_sub = df.groupby(['Material','Submaterial']).sum()"
   ]
  },
  {
   "cell_type": "code",
   "execution_count": null,
   "metadata": {},
   "outputs": [],
   "source": [
    "df_mat = df.groupby(['Material']).sum()"
   ]
  },
  {
   "cell_type": "code",
   "execution_count": null,
   "metadata": {},
   "outputs": [],
   "source": [
    "sub_percentage = []\n",
    "mat_percentage = []\n",
    "for idx, row in df_elem.iterrows():\n",
    "    matID = idx[0]\n",
    "    elemID = idx[1]\n",
    "    sub_percentage.append(row['Fraction']/df_sub['Fraction'].loc[(matID, elemID)])\n",
    "    mat_percentage.append(row['Fraction']/df_mat['Fraction'].loc[matID])\n",
    "\n",
    "df_elem['Sub-Material Fraction'] = sub_percentage\n",
    "df_elem['Material Fraction'] = mat_percentage\n",
    "df_elem"
   ]
  },
  {
   "cell_type": "code",
   "execution_count": null,
   "metadata": {},
   "outputs": [],
   "source": [
    "dic = str({'a':1})"
   ]
  },
  {
   "cell_type": "code",
   "execution_count": null,
   "metadata": {},
   "outputs": [],
   "source": [
    "dic"
   ]
  },
  {
   "cell_type": "code",
   "execution_count": 1,
   "metadata": {},
   "outputs": [],
   "source": [
    "import os\n",
    "import re"
   ]
  },
  {
   "cell_type": "code",
   "execution_count": 2,
   "metadata": {},
   "outputs": [],
   "source": [
    "file = r'C:\\Users\\laghi\\Documents\\03_dottorato\\04_F4E\\01_JADE\\Tests\\MCNP simulations\\31c\\Sphere\\Sphere_5011_B-11\\Sphere_5011_B-11_o'"
   ]
  },
  {
   "cell_type": "code",
   "execution_count": 7,
   "metadata": {},
   "outputs": [],
   "source": [
    "class OutputFile:\n",
    "\n",
    "    def __init__(self, filepath):\n",
    "        self.path = filepath  # Path to the file\n",
    "        self.name = os.path.basename(filepath)  # file name\n",
    "\n",
    "        # Store statistical checks in a dictionary\n",
    "        self.stat_checks = self._get_statistical_checks()\n",
    "\n",
    "    def _get_statistical_checks(self):\n",
    "        # Some global key words and patterns\n",
    "        start_stat_check = 'result of statistical checks'\n",
    "        miss = 'missed'\n",
    "        passed = 'passed'\n",
    "        allzero = 'no nonzero'\n",
    "        pat_tnumber = re.compile('\\s*\\t*\\s*\\d+')\n",
    "        end = 'the 10 statistical checks are only'\n",
    "\n",
    "        # Recover statistical checks\n",
    "        statcheck_flag = False\n",
    "        stat_checks = {}\n",
    "        with open(self.path, 'r') as infile:\n",
    "            for line in infile:\n",
    "                if line.find(start_stat_check) != -1:\n",
    "                    statcheck_flag = True\n",
    "\n",
    "                elif statcheck_flag:\n",
    "                    # Control if is a tally line\n",
    "                    tallycheck = pat_tnumber.match(line)\n",
    "                    if tallycheck is not None:\n",
    "                        tnumber = int(tallycheck.group())\n",
    "                        if line.find(miss) != -1:\n",
    "                            result = 'Missed'\n",
    "                        elif line.find(passed) != -1:\n",
    "                            result = 'Passed'\n",
    "                        elif line.find(allzero) != -1:\n",
    "                            result = 'All zeros'\n",
    "                        else:\n",
    "                            print('Warning: tally n.'+str(tnumber)+' not retrieved')\n",
    "\n",
    "                        stat_checks[tnumber] = result\n",
    "                \n",
    "                    elif line.find(end) !=-1:\n",
    "                        # Exit from loop when all checks are read\n",
    "                        break\n",
    "\n",
    "        return stat_checks"
   ]
  },
  {
   "cell_type": "code",
   "execution_count": 8,
   "metadata": {},
   "outputs": [],
   "source": [
    "of = OutputFile(file)"
   ]
  },
  {
   "cell_type": "code",
   "execution_count": 9,
   "metadata": {},
   "outputs": [
    {
     "data": {
      "text/plain": [
       "{2: 'Missed',\n",
       " 4: 'Passed',\n",
       " 6: 'Passed',\n",
       " 12: 'Missed',\n",
       " 14: 'Passed',\n",
       " 24: 'Passed',\n",
       " 34: 'Passed',\n",
       " 22: 'Passed',\n",
       " 32: 'Passed',\n",
       " 44: 'Passed',\n",
       " 46: 'Passed'}"
      ]
     },
     "execution_count": 9,
     "metadata": {},
     "output_type": "execute_result"
    }
   ],
   "source": [
    "of.stat_checks"
   ]
  },
  {
   "cell_type": "code",
   "execution_count": 19,
   "metadata": {},
   "outputs": [],
   "source": [
    "folder = ['othermaterial', '1001.31c', '1010.31c', '11001.31c', '1002.31c', '2001.31c', 'material']"
   ]
  },
  {
   "cell_type": "code",
   "execution_count": 31,
   "metadata": {},
   "outputs": [],
   "source": [
    "import pandas as pd\n",
    "names = []\n",
    "for name in folder:\n",
    "    fullname = name\n",
    "    to_order = name.split('.')[0]\n",
    "    names.append({'full': fullname, '2order': to_order})\n",
    "df = pd.DataFrame(names)\n",
    "df['index'] = pd.to_numeric(df['2order'].values, errors='coerce')\n",
    "df.sort_values('index', inplace=True)\n",
    "\n",
    "names = df.full.values.tolist()"
   ]
  },
  {
   "cell_type": "code",
   "execution_count": 32,
   "metadata": {},
   "outputs": [
    {
     "data": {
      "text/plain": [
       "['1001.31c',\n",
       " '1002.31c',\n",
       " '1010.31c',\n",
       " '2001.31c',\n",
       " '11001.31c',\n",
       " 'material',\n",
       " 'othermaterial']"
      ]
     },
     "execution_count": 32,
     "metadata": {},
     "output_type": "execute_result"
    }
   ],
   "source": [
    "names"
   ]
  },
  {
   "cell_type": "code",
   "execution_count": null,
   "metadata": {},
   "outputs": [],
   "source": []
  }
 ],
 "metadata": {
  "kernelspec": {
   "display_name": "Python 3",
   "language": "python",
   "name": "python3"
  },
  "language_info": {
   "codemirror_mode": {
    "name": "ipython",
    "version": 3
   },
   "file_extension": ".py",
   "mimetype": "text/x-python",
   "name": "python",
   "nbconvert_exporter": "python",
   "pygments_lexer": "ipython3",
   "version": "3.7.6"
  }
 },
 "nbformat": 4,
 "nbformat_minor": 2
}
